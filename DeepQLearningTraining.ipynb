{
  "cells": [
    {
      "cell_type": "markdown",
      "metadata": {
        "id": "Fp30SB4bxeQb"
      },
      "source": [
        "# **LunarLaunch - Deep QLearning**\n",
        "\n",
        "The implementation of Deep QLearning for LunarLunch v2.\n",
        "\n"
      ]
    },
    {
      "cell_type": "markdown",
      "metadata": {},
      "source": [
        "## Initialization"
      ]
    },
    {
      "cell_type": "code",
      "execution_count": 1,
      "metadata": {},
      "outputs": [],
      "source": [
        "%matplotlib inline\n",
        "from IPython import display\n",
        "import matplotlib.pyplot as plt"
      ]
    },
    {
      "cell_type": "code",
      "execution_count": 2,
      "metadata": {},
      "outputs": [
        {
          "name": "stderr",
          "output_type": "stream",
          "text": [
            "/home/rtu/miniconda3/envs/rlpg/lib/python3.12/site-packages/torch/cuda/__init__.py:182: UserWarning: CUDA initialization: Unexpected error from cudaGetDeviceCount(). Did you run some cuda functions before calling NumCudaDevices() that might have already set an error? Error 804: forward compatibility was attempted on non supported HW (Triggered internally at /pytorch/c10/cuda/CUDAFunctions.cpp:109.)\n",
            "  return torch._C._cuda_getDeviceCount() > 0\n"
          ]
        }
      ],
      "source": [
        "from sim.GymTrainer import GymTrainer\n",
        "from framework.DeepQLearning import DeepQLearning\n",
        "\n",
        "import torch\n",
        "trainDevice = torch.device(\"cuda\" if torch.cuda.is_available() else \"cpu\")"
      ]
    },
    {
      "cell_type": "code",
      "execution_count": 3,
      "metadata": {},
      "outputs": [
        {
          "name": "stdout",
          "output_type": "stream",
          "text": [
            "=============Initializing=============\n",
            "Initializing Gym Environments of CartPole-v1\n",
            "init envs\n",
            "set seeds 543\n"
          ]
        }
      ],
      "source": [
        "# Create the simulation environment\n",
        "sim = GymTrainer(\n",
        "    'CartPole-v1', \n",
        "    evalDevice=\"cpu\", \n",
        "    trainDevice=trainDevice, \n",
        "    render_mode='rgb_array', \n",
        "    envNum=4,\n",
        "    maxEpisode=5000,\n",
        "    batchSize=16,\n",
        "    maxStep=100000,\n",
        "    stepLimitPenalty=0,\n",
        "    seed=543)"
      ]
    },
    {
      "cell_type": "code",
      "execution_count": 4,
      "metadata": {},
      "outputs": [],
      "source": [
        "# Create the agent\n",
        "agent = DeepQLearning(\n",
        "    actionNum=2, \n",
        "    stateNum=4, \n",
        "    gamma=1.0, \n",
        "    qNetLR=0.01)"
      ]
    },
    {
      "cell_type": "markdown",
      "metadata": {},
      "source": [
        "## Training"
      ]
    },
    {
      "cell_type": "code",
      "execution_count": 5,
      "metadata": {},
      "outputs": [
        {
          "name": "stdout",
          "output_type": "stream",
          "text": [
            "=============Start Training=============\n",
            "Batch:1 \t Episode:17 \t Loss: 0.99 \t AvgRew: 17.47 \t FinRew: 1.00\n",
            "Batch:2 \t Episode:33 \t Loss: 0.98 \t AvgRew: 24.06 \t FinRew: 1.00\n",
            "Batch:3 \t Episode:49 \t Loss: 0.96 \t AvgRew: 21.62 \t FinRew: 1.00\n",
            "Batch:4 \t Episode:65 \t Loss: 0.94 \t AvgRew: 20.81 \t FinRew: 1.00\n",
            "Batch:5 \t Episode:81 \t Loss: 0.96 \t AvgRew: 29.06 \t FinRew: 1.00\n",
            "Batch:6 \t Episode:97 \t Loss: 0.93 \t AvgRew: 22.56 \t FinRew: 1.00\n",
            "Batch:7 \t Episode:113 \t Loss: 0.93 \t AvgRew: 28.06 \t FinRew: 1.00\n",
            "Batch:8 \t Episode:129 \t Loss: 0.90 \t AvgRew: 19.81 \t FinRew: 1.00\n",
            "Batch:9 \t Episode:145 \t Loss: 0.90 \t AvgRew: 24.31 \t FinRew: 1.00\n",
            "Batch:10 \t Episode:161 \t Loss: 0.85 \t AvgRew: 20.81 \t FinRew: 1.00\n",
            "Batch:11 \t Episode:177 \t Loss: 0.86 \t AvgRew: 27.81 \t FinRew: 1.00\n",
            "Batch:12 \t Episode:193 \t Loss: 0.86 \t AvgRew: 24.56 \t FinRew: 1.00\n",
            "Batch:13 \t Episode:209 \t Loss: 0.84 \t AvgRew: 19.06 \t FinRew: 1.00\n",
            "Batch:14 \t Episode:225 \t Loss: 0.87 \t AvgRew: 24.56 \t FinRew: 1.00\n",
            "Batch:15 \t Episode:241 \t Loss: 0.87 \t AvgRew: 24.56 \t FinRew: 1.00\n",
            "Batch:16 \t Episode:257 \t Loss: 0.85 \t AvgRew: 23.06 \t FinRew: 1.00\n",
            "Batch:17 \t Episode:273 \t Loss: 0.82 \t AvgRew: 22.81 \t FinRew: 1.00\n",
            "Batch:18 \t Episode:289 \t Loss: 0.78 \t AvgRew: 18.31 \t FinRew: 1.00\n",
            "Batch:19 \t Episode:305 \t Loss: 0.84 \t AvgRew: 20.81 \t FinRew: 1.00\n",
            "Batch:20 \t Episode:321 \t Loss: 0.88 \t AvgRew: 25.06 \t FinRew: 1.00\n",
            "Batch:21 \t Episode:337 \t Loss: 0.76 \t AvgRew: 22.38 \t FinRew: 1.00\n",
            "Batch:22 \t Episode:353 \t Loss: 0.81 \t AvgRew: 22.81 \t FinRew: 1.00\n",
            "Batch:23 \t Episode:369 \t Loss: 0.85 \t AvgRew: 24.31 \t FinRew: 1.00\n",
            "Batch:24 \t Episode:385 \t Loss: 0.84 \t AvgRew: 23.31 \t FinRew: 1.00\n",
            "Batch:25 \t Episode:401 \t Loss: 0.81 \t AvgRew: 24.56 \t FinRew: 1.00\n",
            "Batch:26 \t Episode:417 \t Loss: 0.84 \t AvgRew: 19.81 \t FinRew: 1.00\n",
            "Batch:27 \t Episode:433 \t Loss: 0.90 \t AvgRew: 23.56 \t FinRew: 1.00\n",
            "Batch:28 \t Episode:449 \t Loss: 0.75 \t AvgRew: 25.31 \t FinRew: 1.00\n",
            "Batch:29 \t Episode:465 \t Loss: 0.74 \t AvgRew: 21.81 \t FinRew: 1.00\n",
            "Batch:30 \t Episode:481 \t Loss: 0.76 \t AvgRew: 23.31 \t FinRew: 1.00\n",
            "Batch:31 \t Episode:497 \t Loss: 0.91 \t AvgRew: 24.81 \t FinRew: 1.00\n",
            "Batch:32 \t Episode:513 \t Loss: 0.86 \t AvgRew: 25.81 \t FinRew: 1.00\n",
            "Batch:33 \t Episode:529 \t Loss: 0.89 \t AvgRew: 25.31 \t FinRew: 1.00\n",
            "Batch:34 \t Episode:545 \t Loss: 0.94 \t AvgRew: 30.81 \t FinRew: 1.00\n",
            "Batch:35 \t Episode:561 \t Loss: 0.70 \t AvgRew: 20.31 \t FinRew: 1.00\n",
            "Batch:36 \t Episode:577 \t Loss: 0.81 \t AvgRew: 27.56 \t FinRew: 1.00\n",
            "Batch:37 \t Episode:594 \t Loss: 0.88 \t AvgRew: 23.82 \t FinRew: 1.00\n",
            "Batch:38 \t Episode:610 \t Loss: 0.81 \t AvgRew: 21.56 \t FinRew: 1.00\n",
            "Batch:39 \t Episode:626 \t Loss: 0.82 \t AvgRew: 27.31 \t FinRew: 1.00\n",
            "Batch:40 \t Episode:642 \t Loss: 0.80 \t AvgRew: 20.31 \t FinRew: 1.00\n",
            "Batch:41 \t Episode:658 \t Loss: 0.81 \t AvgRew: 23.56 \t FinRew: 1.00\n",
            "Batch:42 \t Episode:675 \t Loss: 0.72 \t AvgRew: 19.18 \t FinRew: 1.00\n",
            "Batch:43 \t Episode:691 \t Loss: 0.76 \t AvgRew: 27.56 \t FinRew: 1.00\n",
            "Batch:44 \t Episode:707 \t Loss: 0.85 \t AvgRew: 30.31 \t FinRew: 1.00\n",
            "Batch:45 \t Episode:724 \t Loss: 0.71 \t AvgRew: 20.53 \t FinRew: 1.00\n",
            "Batch:46 \t Episode:740 \t Loss: 0.76 \t AvgRew: 24.31 \t FinRew: 1.00\n",
            "Batch:47 \t Episode:757 \t Loss: 0.75 \t AvgRew: 25.94 \t FinRew: 1.00\n",
            "Batch:48 \t Episode:773 \t Loss: 0.79 \t AvgRew: 26.81 \t FinRew: 1.00\n",
            "Batch:49 \t Episode:789 \t Loss: 0.72 \t AvgRew: 20.81 \t FinRew: 1.00\n",
            "Batch:50 \t Episode:805 \t Loss: 0.83 \t AvgRew: 29.06 \t FinRew: 1.00\n",
            "Batch:51 \t Episode:821 \t Loss: 0.75 \t AvgRew: 21.81 \t FinRew: 1.00\n",
            "Batch:52 \t Episode:837 \t Loss: 0.89 \t AvgRew: 25.81 \t FinRew: 1.00\n",
            "Batch:53 \t Episode:853 \t Loss: 0.79 \t AvgRew: 26.31 \t FinRew: 1.00\n",
            "Batch:54 \t Episode:869 \t Loss: 0.74 \t AvgRew: 24.31 \t FinRew: 1.00\n",
            "Batch:55 \t Episode:885 \t Loss: 0.83 \t AvgRew: 20.31 \t FinRew: 1.00\n",
            "Batch:56 \t Episode:901 \t Loss: 0.82 \t AvgRew: 21.56 \t FinRew: 1.00\n",
            "Batch:57 \t Episode:917 \t Loss: 0.79 \t AvgRew: 22.31 \t FinRew: 1.00\n",
            "Batch:58 \t Episode:933 \t Loss: 0.88 \t AvgRew: 24.31 \t FinRew: 1.00\n",
            "Batch:59 \t Episode:949 \t Loss: 0.94 \t AvgRew: 31.06 \t FinRew: 1.00\n",
            "Batch:60 \t Episode:965 \t Loss: 0.75 \t AvgRew: 19.81 \t FinRew: 1.00\n",
            "Batch:61 \t Episode:981 \t Loss: 0.81 \t AvgRew: 27.81 \t FinRew: 1.00\n",
            "Batch:62 \t Episode:997 \t Loss: 0.68 \t AvgRew: 18.81 \t FinRew: 1.00\n",
            "Batch:63 \t Episode:1013 \t Loss: 0.75 \t AvgRew: 21.81 \t FinRew: 1.00\n",
            "Batch:64 \t Episode:1029 \t Loss: 0.78 \t AvgRew: 27.81 \t FinRew: 1.00\n",
            "Batch:65 \t Episode:1045 \t Loss: 0.71 \t AvgRew: 21.81 \t FinRew: 1.00\n",
            "Batch:66 \t Episode:1061 \t Loss: 0.74 \t AvgRew: 25.81 \t FinRew: 1.00\n",
            "Batch:67 \t Episode:1077 \t Loss: 0.75 \t AvgRew: 23.06 \t FinRew: 1.00\n",
            "Batch:68 \t Episode:1093 \t Loss: 0.84 \t AvgRew: 24.81 \t FinRew: 1.00\n",
            "Batch:69 \t Episode:1109 \t Loss: 0.74 \t AvgRew: 19.06 \t FinRew: 1.00\n",
            "Batch:70 \t Episode:1125 \t Loss: 0.72 \t AvgRew: 22.31 \t FinRew: 1.00\n",
            "Batch:71 \t Episode:1141 \t Loss: 0.84 \t AvgRew: 22.31 \t FinRew: 1.00\n",
            "Batch:72 \t Episode:1157 \t Loss: 0.76 \t AvgRew: 27.81 \t FinRew: 1.00\n",
            "Batch:73 \t Episode:1173 \t Loss: 0.82 \t AvgRew: 29.06 \t FinRew: 1.00\n",
            "Batch:74 \t Episode:1189 \t Loss: 0.79 \t AvgRew: 23.06 \t FinRew: 1.00\n",
            "Batch:75 \t Episode:1205 \t Loss: 0.76 \t AvgRew: 29.06 \t FinRew: 1.00\n",
            "Batch:76 \t Episode:1221 \t Loss: 0.75 \t AvgRew: 20.62 \t FinRew: 1.00\n",
            "Batch:77 \t Episode:1237 \t Loss: 0.81 \t AvgRew: 24.81 \t FinRew: 1.00\n",
            "Batch:78 \t Episode:1253 \t Loss: 0.79 \t AvgRew: 21.81 \t FinRew: 1.00\n",
            "Batch:79 \t Episode:1269 \t Loss: 0.85 \t AvgRew: 18.81 \t FinRew: 1.00\n",
            "Batch:80 \t Episode:1285 \t Loss: 0.85 \t AvgRew: 22.31 \t FinRew: 1.00\n",
            "Batch:81 \t Episode:1301 \t Loss: 0.77 \t AvgRew: 27.31 \t FinRew: 1.00\n",
            "Batch:82 \t Episode:1317 \t Loss: 0.81 \t AvgRew: 21.81 \t FinRew: 1.00\n",
            "Batch:83 \t Episode:1333 \t Loss: 0.70 \t AvgRew: 23.56 \t FinRew: 1.00\n",
            "Batch:84 \t Episode:1349 \t Loss: 0.78 \t AvgRew: 29.06 \t FinRew: 1.00\n",
            "Batch:85 \t Episode:1365 \t Loss: 0.77 \t AvgRew: 22.81 \t FinRew: 1.00\n",
            "Batch:86 \t Episode:1381 \t Loss: 0.78 \t AvgRew: 21.88 \t FinRew: 1.00\n",
            "Batch:87 \t Episode:1397 \t Loss: 0.78 \t AvgRew: 28.62 \t FinRew: 1.00\n",
            "Batch:88 \t Episode:1414 \t Loss: 0.75 \t AvgRew: 28.76 \t FinRew: 1.00\n",
            "Batch:89 \t Episode:1430 \t Loss: 0.73 \t AvgRew: 18.81 \t FinRew: 1.00\n",
            "Batch:90 \t Episode:1446 \t Loss: 0.82 \t AvgRew: 23.81 \t FinRew: 1.00\n",
            "Batch:91 \t Episode:1462 \t Loss: 0.79 \t AvgRew: 22.06 \t FinRew: 1.00\n",
            "Batch:92 \t Episode:1478 \t Loss: 0.71 \t AvgRew: 21.12 \t FinRew: 1.00\n",
            "Batch:93 \t Episode:1494 \t Loss: 0.75 \t AvgRew: 18.81 \t FinRew: 1.00\n",
            "Batch:94 \t Episode:1510 \t Loss: 0.69 \t AvgRew: 22.56 \t FinRew: 1.00\n",
            "Batch:95 \t Episode:1526 \t Loss: 0.77 \t AvgRew: 24.06 \t FinRew: 1.00\n",
            "Batch:96 \t Episode:1542 \t Loss: 0.77 \t AvgRew: 29.06 \t FinRew: 1.00\n",
            "Batch:97 \t Episode:1558 \t Loss: 0.87 \t AvgRew: 30.31 \t FinRew: 1.00\n",
            "Batch:98 \t Episode:1574 \t Loss: 0.74 \t AvgRew: 27.31 \t FinRew: 1.00\n",
            "Batch:99 \t Episode:1590 \t Loss: 0.74 \t AvgRew: 21.31 \t FinRew: 1.00\n",
            "Batch:100 \t Episode:1606 \t Loss: 0.69 \t AvgRew: 23.31 \t FinRew: 1.00\n",
            "Batch:101 \t Episode:1623 \t Loss: 0.74 \t AvgRew: 17.94 \t FinRew: 1.00\n",
            "Batch:102 \t Episode:1639 \t Loss: 0.88 \t AvgRew: 27.81 \t FinRew: 1.00\n",
            "Batch:103 \t Episode:1655 \t Loss: 0.77 \t AvgRew: 18.81 \t FinRew: 1.00\n",
            "Batch:104 \t Episode:1671 \t Loss: 0.70 \t AvgRew: 23.06 \t FinRew: 1.00\n",
            "Batch:105 \t Episode:1687 \t Loss: 0.80 \t AvgRew: 28.06 \t FinRew: 1.00\n",
            "Batch:106 \t Episode:1703 \t Loss: 0.80 \t AvgRew: 24.06 \t FinRew: 1.00\n",
            "Batch:107 \t Episode:1719 \t Loss: 0.68 \t AvgRew: 19.56 \t FinRew: 1.00\n",
            "Batch:108 \t Episode:1736 \t Loss: 0.72 \t AvgRew: 25.24 \t FinRew: 1.00\n",
            "Batch:109 \t Episode:1752 \t Loss: 0.77 \t AvgRew: 23.56 \t FinRew: 1.00\n",
            "Batch:110 \t Episode:1768 \t Loss: 0.76 \t AvgRew: 22.31 \t FinRew: 1.00\n",
            "Batch:111 \t Episode:1784 \t Loss: 0.68 \t AvgRew: 24.31 \t FinRew: 1.00\n",
            "Batch:112 \t Episode:1800 \t Loss: 0.83 \t AvgRew: 26.56 \t FinRew: 1.00\n",
            "Batch:113 \t Episode:1816 \t Loss: 0.75 \t AvgRew: 27.56 \t FinRew: 1.00\n",
            "Batch:114 \t Episode:1832 \t Loss: 0.80 \t AvgRew: 27.31 \t FinRew: 1.00\n",
            "Batch:115 \t Episode:1848 \t Loss: 0.75 \t AvgRew: 22.31 \t FinRew: 1.00\n",
            "Batch:116 \t Episode:1864 \t Loss: 0.68 \t AvgRew: 23.06 \t FinRew: 1.00\n",
            "Batch:117 \t Episode:1880 \t Loss: 0.69 \t AvgRew: 21.81 \t FinRew: 1.00\n",
            "Batch:118 \t Episode:1896 \t Loss: 0.81 \t AvgRew: 21.56 \t FinRew: 1.00\n",
            "Batch:119 \t Episode:1912 \t Loss: 0.76 \t AvgRew: 21.81 \t FinRew: 1.00\n",
            "Batch:120 \t Episode:1928 \t Loss: 0.77 \t AvgRew: 24.06 \t FinRew: 1.00\n",
            "Batch:121 \t Episode:1944 \t Loss: 0.72 \t AvgRew: 27.06 \t FinRew: 1.00\n",
            "Batch:122 \t Episode:1960 \t Loss: 0.73 \t AvgRew: 20.31 \t FinRew: 1.00\n",
            "Batch:123 \t Episode:1976 \t Loss: 0.77 \t AvgRew: 20.81 \t FinRew: 1.00\n",
            "Batch:124 \t Episode:1992 \t Loss: 0.73 \t AvgRew: 22.81 \t FinRew: 1.00\n",
            "Batch:125 \t Episode:2008 \t Loss: 0.82 \t AvgRew: 26.06 \t FinRew: 1.00\n",
            "Batch:126 \t Episode:2024 \t Loss: 0.73 \t AvgRew: 26.06 \t FinRew: 1.00\n",
            "Batch:127 \t Episode:2040 \t Loss: 0.74 \t AvgRew: 24.31 \t FinRew: 1.00\n",
            "Batch:128 \t Episode:2056 \t Loss: 0.67 \t AvgRew: 19.06 \t FinRew: 1.00\n",
            "Batch:129 \t Episode:2072 \t Loss: 0.78 \t AvgRew: 25.56 \t FinRew: 1.00\n",
            "Batch:130 \t Episode:2088 \t Loss: 0.66 \t AvgRew: 21.31 \t FinRew: 1.00\n",
            "Batch:131 \t Episode:2104 \t Loss: 0.66 \t AvgRew: 20.81 \t FinRew: 1.00\n",
            "Batch:132 \t Episode:2120 \t Loss: 0.71 \t AvgRew: 25.06 \t FinRew: 1.00\n",
            "Batch:133 \t Episode:2136 \t Loss: 0.64 \t AvgRew: 19.06 \t FinRew: 1.00\n",
            "Batch:134 \t Episode:2152 \t Loss: 0.65 \t AvgRew: 20.81 \t FinRew: 1.00\n",
            "Batch:135 \t Episode:2168 \t Loss: 0.70 \t AvgRew: 23.06 \t FinRew: 1.00\n",
            "Batch:136 \t Episode:2184 \t Loss: 0.82 \t AvgRew: 26.56 \t FinRew: 1.00\n",
            "Batch:137 \t Episode:2200 \t Loss: 0.77 \t AvgRew: 20.06 \t FinRew: 1.00\n",
            "Batch:138 \t Episode:2216 \t Loss: 0.67 \t AvgRew: 25.06 \t FinRew: 1.00\n",
            "Batch:139 \t Episode:2232 \t Loss: 0.73 \t AvgRew: 25.81 \t FinRew: 1.00\n",
            "Batch:140 \t Episode:2248 \t Loss: 0.69 \t AvgRew: 23.06 \t FinRew: 1.00\n",
            "Batch:141 \t Episode:2264 \t Loss: 0.74 \t AvgRew: 23.81 \t FinRew: 1.00\n",
            "Batch:142 \t Episode:2280 \t Loss: 0.64 \t AvgRew: 18.56 \t FinRew: 1.00\n",
            "Batch:143 \t Episode:2296 \t Loss: 0.86 \t AvgRew: 27.31 \t FinRew: 1.00\n",
            "Batch:144 \t Episode:2312 \t Loss: 0.71 \t AvgRew: 25.56 \t FinRew: 1.00\n",
            "Batch:145 \t Episode:2328 \t Loss: 0.65 \t AvgRew: 24.31 \t FinRew: 1.00\n",
            "Batch:146 \t Episode:2344 \t Loss: 0.70 \t AvgRew: 20.31 \t FinRew: 1.00\n",
            "Batch:147 \t Episode:2360 \t Loss: 0.71 \t AvgRew: 23.56 \t FinRew: 1.00\n",
            "Batch:148 \t Episode:2376 \t Loss: 0.67 \t AvgRew: 24.31 \t FinRew: 1.00\n",
            "Batch:149 \t Episode:2392 \t Loss: 0.84 \t AvgRew: 27.56 \t FinRew: 1.00\n",
            "Batch:150 \t Episode:2408 \t Loss: 0.73 \t AvgRew: 20.81 \t FinRew: 1.00\n",
            "Batch:151 \t Episode:2424 \t Loss: 0.83 \t AvgRew: 27.06 \t FinRew: 1.00\n",
            "Batch:152 \t Episode:2440 \t Loss: 0.70 \t AvgRew: 25.62 \t FinRew: 1.00\n",
            "Batch:153 \t Episode:2456 \t Loss: 0.81 \t AvgRew: 21.31 \t FinRew: 1.00\n",
            "Batch:154 \t Episode:2472 \t Loss: 0.77 \t AvgRew: 22.12 \t FinRew: 1.00\n",
            "Batch:155 \t Episode:2489 \t Loss: 0.65 \t AvgRew: 19.35 \t FinRew: 1.00\n",
            "Batch:156 \t Episode:2505 \t Loss: 0.79 \t AvgRew: 25.31 \t FinRew: 1.00\n",
            "Batch:157 \t Episode:2521 \t Loss: 0.78 \t AvgRew: 24.31 \t FinRew: 1.00\n",
            "Batch:158 \t Episode:2537 \t Loss: 0.79 \t AvgRew: 23.31 \t FinRew: 1.00\n",
            "Batch:159 \t Episode:2553 \t Loss: 0.71 \t AvgRew: 22.81 \t FinRew: 1.00\n",
            "Batch:160 \t Episode:2569 \t Loss: 0.86 \t AvgRew: 26.81 \t FinRew: 1.00\n",
            "Batch:161 \t Episode:2585 \t Loss: 0.67 \t AvgRew: 22.81 \t FinRew: 1.00\n",
            "Batch:162 \t Episode:2601 \t Loss: 0.77 \t AvgRew: 25.06 \t FinRew: 1.00\n",
            "Batch:163 \t Episode:2617 \t Loss: 0.76 \t AvgRew: 24.56 \t FinRew: 1.00\n",
            "Batch:164 \t Episode:2633 \t Loss: 0.64 \t AvgRew: 18.81 \t FinRew: 1.00\n",
            "Batch:165 \t Episode:2649 \t Loss: 0.62 \t AvgRew: 20.06 \t FinRew: 1.00\n",
            "Batch:166 \t Episode:2665 \t Loss: 0.89 \t AvgRew: 24.31 \t FinRew: 1.00\n",
            "Batch:167 \t Episode:2681 \t Loss: 0.69 \t AvgRew: 22.56 \t FinRew: 1.00\n",
            "Batch:168 \t Episode:2697 \t Loss: 0.72 \t AvgRew: 24.56 \t FinRew: 1.00\n",
            "Batch:169 \t Episode:2713 \t Loss: 0.79 \t AvgRew: 21.81 \t FinRew: 1.00\n",
            "Batch:170 \t Episode:2730 \t Loss: 0.67 \t AvgRew: 24.06 \t FinRew: 1.00\n",
            "Batch:171 \t Episode:2746 \t Loss: 0.70 \t AvgRew: 25.56 \t FinRew: 1.00\n",
            "Batch:172 \t Episode:2762 \t Loss: 0.75 \t AvgRew: 21.06 \t FinRew: 1.00\n",
            "Batch:173 \t Episode:2778 \t Loss: 0.68 \t AvgRew: 22.81 \t FinRew: 1.00\n",
            "Batch:174 \t Episode:2794 \t Loss: 0.66 \t AvgRew: 17.31 \t FinRew: 1.00\n",
            "Batch:175 \t Episode:2810 \t Loss: 0.69 \t AvgRew: 21.31 \t FinRew: 1.00\n",
            "Batch:176 \t Episode:2826 \t Loss: 0.80 \t AvgRew: 23.06 \t FinRew: 1.00\n",
            "Batch:177 \t Episode:2842 \t Loss: 0.75 \t AvgRew: 22.56 \t FinRew: 1.00\n",
            "Batch:178 \t Episode:2858 \t Loss: 0.81 \t AvgRew: 23.81 \t FinRew: 1.00\n",
            "Batch:179 \t Episode:2874 \t Loss: 0.76 \t AvgRew: 27.56 \t FinRew: 1.00\n",
            "Batch:180 \t Episode:2890 \t Loss: 0.78 \t AvgRew: 28.06 \t FinRew: 1.00\n",
            "Batch:181 \t Episode:2906 \t Loss: 0.81 \t AvgRew: 22.56 \t FinRew: 1.00\n",
            "Batch:182 \t Episode:2922 \t Loss: 0.77 \t AvgRew: 20.31 \t FinRew: 1.00\n",
            "Batch:183 \t Episode:2938 \t Loss: 0.67 \t AvgRew: 21.31 \t FinRew: 1.00\n",
            "Batch:184 \t Episode:2954 \t Loss: 0.77 \t AvgRew: 21.81 \t FinRew: 1.00\n",
            "Batch:185 \t Episode:2970 \t Loss: 0.91 \t AvgRew: 23.31 \t FinRew: 1.00\n",
            "Batch:186 \t Episode:2987 \t Loss: 0.73 \t AvgRew: 22.65 \t FinRew: 1.00\n",
            "Batch:187 \t Episode:3003 \t Loss: 0.80 \t AvgRew: 18.06 \t FinRew: 1.00\n",
            "Batch:188 \t Episode:3019 \t Loss: 0.68 \t AvgRew: 19.56 \t FinRew: 1.00\n",
            "Batch:189 \t Episode:3035 \t Loss: 0.73 \t AvgRew: 28.06 \t FinRew: 1.00\n",
            "Batch:190 \t Episode:3051 \t Loss: 0.74 \t AvgRew: 29.56 \t FinRew: 1.00\n",
            "Batch:191 \t Episode:3067 \t Loss: 0.70 \t AvgRew: 22.81 \t FinRew: 1.00\n",
            "Batch:192 \t Episode:3083 \t Loss: 0.71 \t AvgRew: 20.31 \t FinRew: 1.00\n",
            "Batch:193 \t Episode:3099 \t Loss: 0.66 \t AvgRew: 24.31 \t FinRew: 1.00\n",
            "Batch:194 \t Episode:3115 \t Loss: 0.75 \t AvgRew: 25.56 \t FinRew: 1.00\n",
            "Batch:195 \t Episode:3131 \t Loss: 0.83 \t AvgRew: 25.06 \t FinRew: 1.00\n",
            "Batch:196 \t Episode:3147 \t Loss: 0.71 \t AvgRew: 22.56 \t FinRew: 1.00\n",
            "Batch:197 \t Episode:3163 \t Loss: 0.68 \t AvgRew: 27.31 \t FinRew: 1.00\n",
            "Batch:198 \t Episode:3179 \t Loss: 0.67 \t AvgRew: 22.81 \t FinRew: 1.00\n",
            "Batch:199 \t Episode:3195 \t Loss: 0.74 \t AvgRew: 23.06 \t FinRew: 1.00\n",
            "Batch:200 \t Episode:3211 \t Loss: 0.76 \t AvgRew: 23.81 \t FinRew: 1.00\n",
            "Batch:201 \t Episode:3227 \t Loss: 0.68 \t AvgRew: 21.56 \t FinRew: 1.00\n",
            "Batch:202 \t Episode:3243 \t Loss: 0.67 \t AvgRew: 21.81 \t FinRew: 1.00\n",
            "Batch:203 \t Episode:3259 \t Loss: 0.78 \t AvgRew: 28.31 \t FinRew: 1.00\n",
            "Batch:204 \t Episode:3275 \t Loss: 0.74 \t AvgRew: 23.31 \t FinRew: 1.00\n",
            "Batch:205 \t Episode:3291 \t Loss: 0.78 \t AvgRew: 19.31 \t FinRew: 1.00\n",
            "Batch:206 \t Episode:3307 \t Loss: 0.69 \t AvgRew: 23.06 \t FinRew: 1.00\n",
            "Batch:207 \t Episode:3323 \t Loss: 0.83 \t AvgRew: 23.81 \t FinRew: 1.00\n",
            "Batch:208 \t Episode:3340 \t Loss: 0.89 \t AvgRew: 26.18 \t FinRew: 1.00\n",
            "Batch:209 \t Episode:3356 \t Loss: 0.68 \t AvgRew: 20.81 \t FinRew: 1.00\n",
            "Batch:210 \t Episode:3372 \t Loss: 0.64 \t AvgRew: 19.06 \t FinRew: 1.00\n",
            "Batch:211 \t Episode:3388 \t Loss: 0.70 \t AvgRew: 20.31 \t FinRew: 1.00\n",
            "Batch:212 \t Episode:3404 \t Loss: 0.72 \t AvgRew: 24.06 \t FinRew: 1.00\n",
            "Batch:213 \t Episode:3420 \t Loss: 0.73 \t AvgRew: 25.81 \t FinRew: 1.00\n",
            "Batch:214 \t Episode:3436 \t Loss: 0.77 \t AvgRew: 31.81 \t FinRew: 1.00\n",
            "Batch:215 \t Episode:3452 \t Loss: 0.69 \t AvgRew: 22.81 \t FinRew: 1.00\n",
            "Batch:216 \t Episode:3468 \t Loss: 0.72 \t AvgRew: 21.81 \t FinRew: 1.00\n",
            "Batch:217 \t Episode:3484 \t Loss: 0.70 \t AvgRew: 20.31 \t FinRew: 1.00\n",
            "Batch:218 \t Episode:3500 \t Loss: 0.78 \t AvgRew: 25.56 \t FinRew: 1.00\n",
            "Batch:219 \t Episode:3516 \t Loss: 0.67 \t AvgRew: 19.62 \t FinRew: 1.00\n",
            "Batch:220 \t Episode:3532 \t Loss: 0.68 \t AvgRew: 24.56 \t FinRew: 1.00\n",
            "Batch:221 \t Episode:3548 \t Loss: 0.81 \t AvgRew: 22.31 \t FinRew: 1.00\n",
            "Batch:222 \t Episode:3564 \t Loss: 0.73 \t AvgRew: 23.81 \t FinRew: 1.00\n",
            "Batch:223 \t Episode:3580 \t Loss: 0.75 \t AvgRew: 21.06 \t FinRew: 1.00\n",
            "Batch:224 \t Episode:3596 \t Loss: 0.70 \t AvgRew: 27.06 \t FinRew: 1.00\n",
            "Batch:225 \t Episode:3612 \t Loss: 0.72 \t AvgRew: 22.81 \t FinRew: 1.00\n",
            "Batch:226 \t Episode:3628 \t Loss: 0.73 \t AvgRew: 25.56 \t FinRew: 1.00\n",
            "Batch:227 \t Episode:3645 \t Loss: 0.71 \t AvgRew: 22.65 \t FinRew: 1.00\n",
            "Batch:228 \t Episode:3661 \t Loss: 0.73 \t AvgRew: 18.06 \t FinRew: 1.00\n",
            "Batch:229 \t Episode:3677 \t Loss: 0.84 \t AvgRew: 28.56 \t FinRew: 1.00\n",
            "Batch:230 \t Episode:3693 \t Loss: 0.71 \t AvgRew: 21.31 \t FinRew: 1.00\n",
            "Batch:231 \t Episode:3709 \t Loss: 0.77 \t AvgRew: 23.12 \t FinRew: 1.00\n",
            "Batch:232 \t Episode:3725 \t Loss: 0.77 \t AvgRew: 25.06 \t FinRew: 1.00\n",
            "Batch:233 \t Episode:3741 \t Loss: 0.79 \t AvgRew: 24.31 \t FinRew: 1.00\n",
            "Batch:234 \t Episode:3757 \t Loss: 0.59 \t AvgRew: 18.81 \t FinRew: 1.00\n",
            "Batch:235 \t Episode:3773 \t Loss: 0.76 \t AvgRew: 24.31 \t FinRew: 1.00\n",
            "Batch:236 \t Episode:3789 \t Loss: 0.78 \t AvgRew: 21.56 \t FinRew: 1.00\n",
            "Batch:237 \t Episode:3805 \t Loss: 0.83 \t AvgRew: 25.81 \t FinRew: 1.00\n",
            "Batch:238 \t Episode:3821 \t Loss: 0.71 \t AvgRew: 24.56 \t FinRew: 1.00\n",
            "Batch:239 \t Episode:3837 \t Loss: 0.73 \t AvgRew: 20.31 \t FinRew: 1.00\n",
            "Batch:240 \t Episode:3853 \t Loss: 0.74 \t AvgRew: 27.12 \t FinRew: 1.00\n",
            "Batch:241 \t Episode:3869 \t Loss: 0.69 \t AvgRew: 24.56 \t FinRew: 1.00\n",
            "Batch:242 \t Episode:3885 \t Loss: 0.67 \t AvgRew: 18.12 \t FinRew: 1.00\n",
            "Batch:243 \t Episode:3901 \t Loss: 0.81 \t AvgRew: 27.06 \t FinRew: 1.00\n",
            "Batch:244 \t Episode:3917 \t Loss: 0.72 \t AvgRew: 22.31 \t FinRew: 1.00\n",
            "Batch:245 \t Episode:3933 \t Loss: 0.68 \t AvgRew: 22.81 \t FinRew: 1.00\n",
            "Batch:246 \t Episode:3949 \t Loss: 0.72 \t AvgRew: 23.56 \t FinRew: 1.00\n",
            "Batch:247 \t Episode:3965 \t Loss: 0.75 \t AvgRew: 20.56 \t FinRew: 1.00\n",
            "Batch:248 \t Episode:3981 \t Loss: 0.68 \t AvgRew: 25.81 \t FinRew: 1.00\n",
            "Batch:249 \t Episode:3997 \t Loss: 0.69 \t AvgRew: 26.06 \t FinRew: 1.00\n",
            "Batch:250 \t Episode:4013 \t Loss: 0.70 \t AvgRew: 18.56 \t FinRew: 1.00\n",
            "Batch:251 \t Episode:4029 \t Loss: 1.01 \t AvgRew: 28.06 \t FinRew: 1.00\n",
            "Batch:252 \t Episode:4045 \t Loss: 0.69 \t AvgRew: 21.38 \t FinRew: 1.00\n",
            "Batch:253 \t Episode:4061 \t Loss: 0.82 \t AvgRew: 28.81 \t FinRew: 1.00\n",
            "Batch:254 \t Episode:4077 \t Loss: 0.60 \t AvgRew: 22.81 \t FinRew: 1.00\n",
            "Batch:255 \t Episode:4093 \t Loss: 0.68 \t AvgRew: 21.31 \t FinRew: 1.00\n",
            "Batch:256 \t Episode:4109 \t Loss: 0.81 \t AvgRew: 25.56 \t FinRew: 1.00\n",
            "Batch:257 \t Episode:4125 \t Loss: 0.70 \t AvgRew: 25.81 \t FinRew: 1.00\n",
            "Batch:258 \t Episode:4141 \t Loss: 0.73 \t AvgRew: 23.12 \t FinRew: 1.00\n",
            "Batch:259 \t Episode:4157 \t Loss: 0.62 \t AvgRew: 20.56 \t FinRew: 1.00\n",
            "Batch:260 \t Episode:4173 \t Loss: 0.65 \t AvgRew: 20.31 \t FinRew: 1.00\n",
            "Batch:261 \t Episode:4189 \t Loss: 0.67 \t AvgRew: 20.06 \t FinRew: 1.00\n",
            "Batch:262 \t Episode:4205 \t Loss: 0.73 \t AvgRew: 21.81 \t FinRew: 1.00\n",
            "Batch:263 \t Episode:4221 \t Loss: 0.80 \t AvgRew: 29.31 \t FinRew: 1.00\n",
            "Batch:264 \t Episode:4237 \t Loss: 0.74 \t AvgRew: 24.06 \t FinRew: 1.00\n",
            "Batch:265 \t Episode:4253 \t Loss: 0.70 \t AvgRew: 25.56 \t FinRew: 1.00\n",
            "Batch:266 \t Episode:4269 \t Loss: 0.82 \t AvgRew: 24.56 \t FinRew: 1.00\n",
            "Batch:267 \t Episode:4285 \t Loss: 0.79 \t AvgRew: 26.81 \t FinRew: 1.00\n",
            "Batch:268 \t Episode:4302 \t Loss: 0.67 \t AvgRew: 19.82 \t FinRew: 1.00\n",
            "Batch:269 \t Episode:4318 \t Loss: 0.69 \t AvgRew: 20.81 \t FinRew: 1.00\n",
            "Batch:270 \t Episode:4334 \t Loss: 0.68 \t AvgRew: 22.81 \t FinRew: 1.00\n",
            "Batch:271 \t Episode:4350 \t Loss: 0.76 \t AvgRew: 24.31 \t FinRew: 1.00\n",
            "Batch:272 \t Episode:4366 \t Loss: 0.77 \t AvgRew: 27.06 \t FinRew: 1.00\n",
            "Batch:273 \t Episode:4382 \t Loss: 0.85 \t AvgRew: 25.88 \t FinRew: 1.00\n",
            "Batch:274 \t Episode:4398 \t Loss: 0.72 \t AvgRew: 25.06 \t FinRew: 1.00\n",
            "Batch:275 \t Episode:4414 \t Loss: 0.84 \t AvgRew: 27.81 \t FinRew: 1.00\n",
            "Batch:276 \t Episode:4430 \t Loss: 0.70 \t AvgRew: 25.06 \t FinRew: 1.00\n",
            "Batch:277 \t Episode:4446 \t Loss: 0.80 \t AvgRew: 24.31 \t FinRew: 1.00\n",
            "Batch:278 \t Episode:4462 \t Loss: 0.68 \t AvgRew: 23.06 \t FinRew: 1.00\n",
            "Batch:279 \t Episode:4478 \t Loss: 0.68 \t AvgRew: 23.31 \t FinRew: 1.00\n",
            "Batch:280 \t Episode:4494 \t Loss: 0.73 \t AvgRew: 23.56 \t FinRew: 1.00\n",
            "Batch:281 \t Episode:4510 \t Loss: 0.72 \t AvgRew: 22.56 \t FinRew: 1.00\n",
            "Batch:282 \t Episode:4526 \t Loss: 0.77 \t AvgRew: 27.81 \t FinRew: 1.00\n",
            "Batch:283 \t Episode:4542 \t Loss: 0.78 \t AvgRew: 25.31 \t FinRew: 1.00\n",
            "Batch:284 \t Episode:4559 \t Loss: 0.67 \t AvgRew: 20.06 \t FinRew: 1.00\n",
            "Batch:285 \t Episode:4575 \t Loss: 0.74 \t AvgRew: 27.56 \t FinRew: 1.00\n",
            "Batch:286 \t Episode:4592 \t Loss: 0.70 \t AvgRew: 20.29 \t FinRew: 1.00\n",
            "Batch:287 \t Episode:4608 \t Loss: 0.82 \t AvgRew: 23.81 \t FinRew: 1.00\n",
            "Batch:288 \t Episode:4624 \t Loss: 0.64 \t AvgRew: 21.06 \t FinRew: 1.00\n",
            "Batch:289 \t Episode:4640 \t Loss: 0.92 \t AvgRew: 23.81 \t FinRew: 1.00\n",
            "Batch:290 \t Episode:4656 \t Loss: 0.77 \t AvgRew: 25.81 \t FinRew: 1.00\n",
            "Batch:291 \t Episode:4672 \t Loss: 0.67 \t AvgRew: 26.06 \t FinRew: 1.00\n",
            "Batch:292 \t Episode:4689 \t Loss: 0.68 \t AvgRew: 23.35 \t FinRew: 1.00\n",
            "Batch:293 \t Episode:4706 \t Loss: 0.70 \t AvgRew: 27.59 \t FinRew: 1.00\n",
            "Batch:294 \t Episode:4722 \t Loss: 0.73 \t AvgRew: 24.56 \t FinRew: 1.00\n",
            "Batch:295 \t Episode:4738 \t Loss: 0.74 \t AvgRew: 21.56 \t FinRew: 1.00\n",
            "Batch:296 \t Episode:4754 \t Loss: 0.62 \t AvgRew: 21.81 \t FinRew: 1.00\n",
            "Batch:297 \t Episode:4771 \t Loss: 0.63 \t AvgRew: 19.59 \t FinRew: 1.00\n",
            "Batch:298 \t Episode:4787 \t Loss: 0.65 \t AvgRew: 17.81 \t FinRew: 1.00\n",
            "Batch:299 \t Episode:4803 \t Loss: 0.70 \t AvgRew: 24.06 \t FinRew: 1.00\n",
            "Batch:300 \t Episode:4819 \t Loss: 0.60 \t AvgRew: 17.56 \t FinRew: 1.00\n",
            "Batch:301 \t Episode:4835 \t Loss: 0.62 \t AvgRew: 17.56 \t FinRew: 1.00\n",
            "Batch:302 \t Episode:4851 \t Loss: 0.84 \t AvgRew: 26.31 \t FinRew: 1.00\n",
            "Batch:303 \t Episode:4867 \t Loss: 0.71 \t AvgRew: 20.81 \t FinRew: 1.00\n",
            "Batch:304 \t Episode:4883 \t Loss: 0.83 \t AvgRew: 25.31 \t FinRew: 1.00\n",
            "Batch:305 \t Episode:4899 \t Loss: 0.70 \t AvgRew: 23.81 \t FinRew: 1.00\n",
            "Batch:306 \t Episode:4915 \t Loss: 0.74 \t AvgRew: 22.31 \t FinRew: 1.00\n",
            "Batch:307 \t Episode:4931 \t Loss: 0.69 \t AvgRew: 22.31 \t FinRew: 1.00\n",
            "Batch:308 \t Episode:4947 \t Loss: 0.68 \t AvgRew: 22.31 \t FinRew: 1.00\n",
            "Batch:309 \t Episode:4963 \t Loss: 0.69 \t AvgRew: 23.56 \t FinRew: 1.00\n",
            "Batch:310 \t Episode:4979 \t Loss: 0.67 \t AvgRew: 21.56 \t FinRew: 1.00\n",
            "Batch:311 \t Episode:4995 \t Loss: 0.61 \t AvgRew: 22.81 \t FinRew: 1.00\n",
            "Batch:312 \t Episode:5011 \t Loss: 0.62 \t AvgRew: 22.56 \t FinRew: 1.00\n"
          ]
        }
      ],
      "source": [
        "name, writer = sim.makeSummaryWriter(agent)\n",
        "sim.train(agent, writer)"
      ]
    },
    {
      "cell_type": "markdown",
      "metadata": {
        "id": "u2HaGRVEYGQS"
      },
      "source": [
        "## Testing"
      ]
    },
    {
      "cell_type": "code",
      "execution_count": 6,
      "metadata": {
        "colab": {
          "background_save": true
        },
        "id": "5yFuUKKRYH73"
      },
      "outputs": [
        {
          "data": {
            "image/png": "[encoded data removed]",
            "text/plain": [
              "<Figure size 1800x200 with 1 Axes>"
            ]
          },
          "metadata": {},
          "output_type": "display_data"
        },
        {
          "name": "stdout",
          "output_type": "stream",
          "text": [
            "Average Total Reward:61.66666793823242 \t Max Total Reward:215.0 \t Min Total Reward:11.0\n"
          ]
        },
        {
          "data": {
            "image/png": "[encoded data removed]",
            "text/plain": [
              "<Figure size 1800x200 with 1 Axes>"
            ]
          },
          "metadata": {},
          "output_type": "display_data"
        }
      ],
      "source": [
        "sim.test(\n",
        "    agent = agent, \n",
        "    episode = 12, \n",
        "    maxStep = 1000, \n",
        "    renderStep = 3,\n",
        "    writer = writer)"
      ]
    },
    {
      "cell_type": "markdown",
      "metadata": {},
      "source": [
        "## Save"
      ]
    },
    {
      "cell_type": "code",
      "execution_count": 7,
      "metadata": {},
      "outputs": [
        {
          "data": {
            "text/plain": [
              "DeepQLearning(\n",
              "  (qnet): QNetwork(\n",
              "    (fc1): Linear(in_features=4, out_features=32, bias=True)\n",
              "    (fc2): Linear(in_features=32, out_features=2, bias=True)\n",
              "  )\n",
              ")"
            ]
          },
          "execution_count": 7,
          "metadata": {},
          "output_type": "execute_result"
        }
      ],
      "source": [
        "agent.save(name)"
      ]
    }
  ],
  "metadata": {
    "colab": {
      "provenance": []
    },
    "kernelspec": {
      "display_name": "rlpg",
      "language": "python",
      "name": "python3"
    },
    "language_info": {
      "codemirror_mode": {
        "name": "ipython",
        "version": 3
      },
      "file_extension": ".py",
      "mimetype": "text/x-python",
      "name": "python",
      "nbconvert_exporter": "python",
      "pygments_lexer": "ipython3",
      "version": "3.12.0"
    }
  },
  "nbformat": 4,
  "nbformat_minor": 0
}
